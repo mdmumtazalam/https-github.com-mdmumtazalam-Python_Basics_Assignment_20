{
  "cells": [
    {
      "cell_type": "markdown",
      "id": "dc46aaf6",
      "metadata": {
        "id": "dc46aaf6"
      },
      "source": [
        "# Python_Basics_Assignment_20 Solution :-\n",
        "SUBMITTED BY: MD MUMTAZ ALAM"
      ]
    },
    {
      "cell_type": "markdown",
      "id": "d11ed009",
      "metadata": {
        "id": "d11ed009"
      },
      "source": [
        "## 1. Set the variable test1 to the string 'This is a test of the emergency text system,' and save test1 to a file named test.txt."
      ]
    },
    {
      "cell_type": "code",
      "execution_count": null,
      "id": "a25b50ff",
      "metadata": {
        "id": "a25b50ff",
        "outputId": "20897ad2-8d8c-4fbb-a9e9-9b5d88fa7b16"
      },
      "outputs": [
        {
          "name": "stdout",
          "output_type": "stream",
          "text": [
            "This is a test of the emergency text system,\n"
          ]
        }
      ],
      "source": [
        "test1 = 'This is a test of the emergency text system,'\n",
        "print(test1)\n",
        "with open('test.txt','w') as file:\n",
        "    file.write(test1)\n",
        "    file.close()"
      ]
    },
    {
      "cell_type": "code",
      "execution_count": null,
      "id": "dca62a60",
      "metadata": {
        "id": "dca62a60",
        "outputId": "2634c64b-c7c7-4c05-ee74-eb49dc4dda04"
      },
      "outputs": [
        {
          "name": "stdout",
          "output_type": "stream",
          "text": [
            "This is a test of the emergency text system,\n"
          ]
        }
      ],
      "source": [
        "# read the contents of test.txt\n",
        "! type test.txt "
      ]
    },
    {
      "cell_type": "markdown",
      "id": "55718636",
      "metadata": {
        "id": "55718636"
      },
      "source": [
        "## 2. Read the contents of the file test.txt into the variable test2. Is there a difference between test 1 and test 2?"
      ]
    },
    {
      "cell_type": "code",
      "execution_count": null,
      "id": "79ccb9d1",
      "metadata": {
        "id": "79ccb9d1",
        "outputId": "e233430a-40e0-4f12-8ad5-0e0738ca6171"
      },
      "outputs": [
        {
          "name": "stdout",
          "output_type": "stream",
          "text": [
            "This is a test of the emergency text system,\n",
            "True\n"
          ]
        }
      ],
      "source": [
        "with open('test.txt','r') as file:\n",
        "    test2 = file.read()\n",
        "    \n",
        "print(test2)   \n",
        "print(test1 == test2)"
      ]
    },
    {
      "cell_type": "markdown",
      "id": "eb83d88e",
      "metadata": {
        "id": "eb83d88e"
      },
      "source": [
        "## 3. Create a CSV file called books.csv by using these lines:\n",
        "\n",
        "title,author,year\n",
        "\n",
        "The Weirdstone of Brisingamen,Alan Garner,1960\n",
        "\n",
        "Perdido Street Station,China Miéville,2000\n",
        "\n",
        "Thud!,Terry Pratchett,2005\n",
        "\n",
        "The Spellman Files,Lisa Lutz,2007\n",
        "\n",
        "Small Gods,Terry Pratchett,1992"
      ]
    },
    {
      "cell_type": "code",
      "execution_count": null,
      "id": "5675174b",
      "metadata": {
        "id": "5675174b"
      },
      "outputs": [],
      "source": [
        "data = '''title,author,year\n",
        "The Weirdstone of Brisingamen,Alan Garner,1960\n",
        "Perdido Street Station,China Miéville,2000\n",
        "Thud!,Terry Pratchett,2005\n",
        "The Spellman Files,Lisa Lutz,2007\n",
        "Small Gods,Terry Pratchett,1992'''\n",
        "\n",
        "with open('books.csv','w') as file:\n",
        "    file.write(data)"
      ]
    },
    {
      "cell_type": "markdown",
      "id": "3f5327ef",
      "metadata": {
        "id": "3f5327ef"
      },
      "source": [
        "## 4. Use the sqlite3 module to create a SQLite database called books.db, and a table called books with these fields: title (text), author (text), and year (integer)."
      ]
    },
    {
      "cell_type": "code",
      "execution_count": null,
      "id": "293f1e53",
      "metadata": {
        "id": "293f1e53"
      },
      "outputs": [],
      "source": [
        "import sqlite3\n",
        "db = sqlite3.connect('books.db')\n",
        "cursor = db.cursor()\n",
        "cursor.execute(\"CREATE TABLE books (title text, author text, year int)\")\n",
        "db.commit()\n",
        "db.close()"
      ]
    },
    {
      "cell_type": "markdown",
      "id": "c868bdfe",
      "metadata": {
        "id": "c868bdfe"
      },
      "source": [
        "## 5. Read books.csv and insert its data into the books table."
      ]
    },
    {
      "cell_type": "code",
      "execution_count": null,
      "id": "f9acbc6a",
      "metadata": {
        "id": "f9acbc6a"
      },
      "outputs": [],
      "source": [
        "import sqlite3\n",
        "import csv\n",
        "conn = sqlite3.connect(\"books.db\")\n",
        "cursor = conn.cursor()\n",
        "with open(\"books.csv\",\"r\") as file:\n",
        "    books = csv.DictReader(file)\n",
        "    for book in books:\n",
        "        cursor.execute(\"INSERT INTO books VALUES (?,?,?)\",(book['title'],book['author'],book['year']))\n",
        "conn.commit()\n",
        "conn.close()"
      ]
    },
    {
      "cell_type": "markdown",
      "id": "8c4e31b4",
      "metadata": {
        "id": "8c4e31b4"
      },
      "source": [
        "## 6. Select and print the title column from the books table in alphabetical order."
      ]
    },
    {
      "cell_type": "code",
      "execution_count": null,
      "id": "2d5ef847",
      "metadata": {
        "id": "2d5ef847",
        "outputId": "7b7006c0-b9cf-4d4a-c7cd-26d117218d00"
      },
      "outputs": [
        {
          "name": "stdout",
          "output_type": "stream",
          "text": [
            "Perdido Street Station\n",
            "Small Gods\n",
            "The Spellman Files\n",
            "The Weirdstone of Brisingamen\n",
            "Thud!\n"
          ]
        }
      ],
      "source": [
        "import sqlite3\n",
        "conn = sqlite3.connect('books.db')\n",
        "cursor = conn.cursor()\n",
        "output = cursor.execute(\"SELECT title FROM books ORDER BY title ASC\")\n",
        "for ele in output:\n",
        "    print(ele[0])\n",
        "conn.commit()\n",
        "conn.close()"
      ]
    },
    {
      "cell_type": "markdown",
      "id": "0d9a1a1a",
      "metadata": {
        "id": "0d9a1a1a"
      },
      "source": [
        "## 7. From the books table, select and print all columns in the order of publication."
      ]
    },
    {
      "cell_type": "code",
      "execution_count": null,
      "id": "6ca14a1f",
      "metadata": {
        "id": "6ca14a1f",
        "outputId": "7e28ed45-7ca5-4903-eaf2-ca0b3b9fc74d"
      },
      "outputs": [
        {
          "name": "stdout",
          "output_type": "stream",
          "text": [
            "('The Weirdstone of Brisingamen', 'Alan Garner', 1960)\n",
            "('Small Gods', 'Terry Pratchett', 1992)\n",
            "('Perdido Street Station', 'China Miéville', 2000)\n",
            "('Thud!', 'Terry Pratchett', 2005)\n",
            "('The Spellman Files', 'Lisa Lutz', 2007)\n"
          ]
        }
      ],
      "source": [
        "import sqlite3\n",
        "conn = sqlite3.connect('books.db')\n",
        "cursor = conn.cursor()\n",
        "ouput = cursor.execute(\"SELECT * FROM books ORDER BY year\")\n",
        "for record in ouput:\n",
        "    print(record)"
      ]
    },
    {
      "cell_type": "markdown",
      "id": "1ee3e4e0",
      "metadata": {
        "id": "1ee3e4e0"
      },
      "source": [
        "## 8. Use the sqlalchemy module to connect to the sqlite3 database books.db that you just made in exercise 6."
      ]
    },
    {
      "cell_type": "code",
      "execution_count": null,
      "id": "421149c9",
      "metadata": {
        "id": "421149c9",
        "outputId": "5a97c7b4-3d94-4813-b948-08174d5aef1f"
      },
      "outputs": [
        {
          "data": {
            "text/plain": [
              "Engine(sqlite:///books.db)"
            ]
          },
          "execution_count": 9,
          "metadata": {},
          "output_type": "execute_result"
        }
      ],
      "source": [
        "import sqlalchemy\n",
        "conn = sqlalchemy.create_engine('sqlite:///books.db')\n",
        "conn"
      ]
    },
    {
      "cell_type": "markdown",
      "id": "e7be09aa",
      "metadata": {
        "id": "e7be09aa"
      },
      "source": [
        "## 9. Install the Redis server and the Python redis library (pip install redis) on your computer. Create a Redis hash called test with the fields count (1) and name ('Fester Bestertester'). Print all the fields for test."
      ]
    },
    {
      "cell_type": "code",
      "execution_count": null,
      "id": "e1f3f144",
      "metadata": {
        "id": "e1f3f144",
        "outputId": "9e3f7ff6-110c-4cc4-f5ca-102e4c2ebc2c"
      },
      "outputs": [
        {
          "name": "stdout",
          "output_type": "stream",
          "text": [
            "Collecting redis\n",
            "  Downloading redis-4.5.1-py3-none-any.whl (238 kB)\n",
            "Requirement already satisfied: async-timeout>=4.0.2 in c:\\users\\lenovo\\anaconda3\\lib\\site-packages (from redis) (4.0.2)\n",
            "Installing collected packages: redis\n",
            "Successfully installed redis-4.5.1\n"
          ]
        }
      ],
      "source": [
        "! python -m pip install redis"
      ]
    },
    {
      "cell_type": "code",
      "execution_count": null,
      "id": "3307f0fa",
      "metadata": {
        "id": "3307f0fa"
      },
      "outputs": [],
      "source": [
        "import redis\n",
        "conn = redis.Redis()\n",
        "conn.hset('test',{\n",
        "    'count':1,\n",
        "    'name':'Fester Bestertester'\n",
        "})\n",
        "conn.hgetall('test')"
      ]
    },
    {
      "cell_type": "markdown",
      "id": "a2655c57",
      "metadata": {
        "id": "a2655c57"
      },
      "source": [
        "## 10. Increment the count field of test and print it."
      ]
    },
    {
      "cell_type": "code",
      "execution_count": null,
      "id": "3be5b2a2",
      "metadata": {
        "id": "3be5b2a2"
      },
      "outputs": [],
      "source": [
        "conn.hincrby('test', 'count', 1)\n",
        "conn.hget('test', 'count')"
      ]
    },
    {
      "cell_type": "markdown",
      "id": "d0e802b6",
      "metadata": {
        "id": "d0e802b6"
      },
      "source": [
        "# Thank You"
      ]
    }
  ],
  "metadata": {
    "kernelspec": {
      "display_name": "Python 3 (ipykernel)",
      "language": "python",
      "name": "python3"
    },
    "language_info": {
      "codemirror_mode": {
        "name": "ipython",
        "version": 3
      },
      "file_extension": ".py",
      "mimetype": "text/x-python",
      "name": "python",
      "nbconvert_exporter": "python",
      "pygments_lexer": "ipython3",
      "version": "3.9.7"
    },
    "colab": {
      "provenance": []
    }
  },
  "nbformat": 4,
  "nbformat_minor": 5
}